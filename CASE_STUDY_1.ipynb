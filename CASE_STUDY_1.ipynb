{
 "cells": [
  {
   "cell_type": "code",
   "execution_count": null,
   "metadata": {},
   "outputs": [],
   "source": [
    "DATASET DETAILS\n",
    "\n",
    "This dataset has funding information of the Indian startups from January 2015 to August 2017.\n",
    "Feature Details :\n",
    "SNo - Serial number.\n",
    "Date - Date of funding in format DD/MM/YYYY.\n",
    "StartupName - Name of the startup which got funded.\n",
    "IndustryVertical - Industry to which the startup belongs.\n",
    "SubVertical - Sub-category of the industry type.\n",
    "CityLocation - City which the startup is based out of.\n",
    "InvestorsName - Name of the investors involved in the funding round.\n",
    "InvestmentType - Either Private Equity or Seed Funding.\n",
    "AmountInUSD - Funding Amount in USD.\n",
    "Remarks - Other information, if any.\n",
    "Insights -\n",
    "Find out what type of startups are getting funded in the last few years?\n",
    "Who are the important investors?\n",
    "What are the hot fields that get a lot of funding these days?\n",
    "Note :\n",
    "Download Dataset"
   ]
  },
  {
   "cell_type": "markdown",
   "metadata": {},
   "source": [
    "# 1."
   ]
  },
  {
   "cell_type": "code",
   "execution_count": null,
   "metadata": {},
   "outputs": [],
   "source": [
    "Given File 'startup_funding.csv'\n",
    "Problem Statement :\n",
    "Check the trend of investments over the years. To check the trend, find -\n",
    "Total number of fundings done in each year.\n",
    "Plot a line graph between year and number of fundings. Take year on x-axis and number of fundings on y-axis.\n",
    "Print year-wise total number of fundings also. Print years in ascending order.\n",
    "Note :\n",
    "There is some error in the 'Date' feature. Make sure to handle that.\n",
    "Output Format :\n",
    "year1 TotalFunding1\n",
    "year2 TotalFunding2\n",
    ". . . "
   ]
  },
  {
   "cell_type": "code",
   "execution_count": 1,
   "metadata": {},
   "outputs": [
    {
     "data": {
      "text/html": [
       "<div>\n",
       "<style scoped>\n",
       "    .dataframe tbody tr th:only-of-type {\n",
       "        vertical-align: middle;\n",
       "    }\n",
       "\n",
       "    .dataframe tbody tr th {\n",
       "        vertical-align: top;\n",
       "    }\n",
       "\n",
       "    .dataframe thead th {\n",
       "        text-align: right;\n",
       "    }\n",
       "</style>\n",
       "<table border=\"1\" class=\"dataframe\">\n",
       "  <thead>\n",
       "    <tr style=\"text-align: right;\">\n",
       "      <th></th>\n",
       "      <th>SNo</th>\n",
       "      <th>Date</th>\n",
       "      <th>StartupName</th>\n",
       "      <th>IndustryVertical</th>\n",
       "      <th>SubVertical</th>\n",
       "      <th>CityLocation</th>\n",
       "      <th>InvestorsName</th>\n",
       "      <th>InvestmentType</th>\n",
       "      <th>AmountInUSD</th>\n",
       "      <th>Remarks</th>\n",
       "    </tr>\n",
       "  </thead>\n",
       "  <tbody>\n",
       "    <tr>\n",
       "      <td>0</td>\n",
       "      <td>0</td>\n",
       "      <td>01/08/2017</td>\n",
       "      <td>TouchKin</td>\n",
       "      <td>Technology</td>\n",
       "      <td>Predictive Care Platform</td>\n",
       "      <td>Bangalore</td>\n",
       "      <td>Kae Capital</td>\n",
       "      <td>Private Equity</td>\n",
       "      <td>1,300,000</td>\n",
       "      <td>NaN</td>\n",
       "    </tr>\n",
       "    <tr>\n",
       "      <td>1</td>\n",
       "      <td>1</td>\n",
       "      <td>02/08/2017</td>\n",
       "      <td>Ethinos</td>\n",
       "      <td>Technology</td>\n",
       "      <td>Digital Marketing Agency</td>\n",
       "      <td>Mumbai</td>\n",
       "      <td>Triton Investment Advisors</td>\n",
       "      <td>Private Equity</td>\n",
       "      <td>NaN</td>\n",
       "      <td>NaN</td>\n",
       "    </tr>\n",
       "    <tr>\n",
       "      <td>2</td>\n",
       "      <td>2</td>\n",
       "      <td>02/08/2017</td>\n",
       "      <td>Leverage Edu</td>\n",
       "      <td>Consumer Internet</td>\n",
       "      <td>Online platform for Higher Education Services</td>\n",
       "      <td>New Delhi</td>\n",
       "      <td>Kashyap Deorah, Anand Sankeshwar, Deepak Jain,...</td>\n",
       "      <td>Seed Funding</td>\n",
       "      <td>NaN</td>\n",
       "      <td>NaN</td>\n",
       "    </tr>\n",
       "    <tr>\n",
       "      <td>3</td>\n",
       "      <td>3</td>\n",
       "      <td>02/08/2017</td>\n",
       "      <td>Zepo</td>\n",
       "      <td>Consumer Internet</td>\n",
       "      <td>DIY Ecommerce platform</td>\n",
       "      <td>Mumbai</td>\n",
       "      <td>Kunal Shah, LetsVenture, Anupam Mittal, Hetal ...</td>\n",
       "      <td>Seed Funding</td>\n",
       "      <td>500,000</td>\n",
       "      <td>NaN</td>\n",
       "    </tr>\n",
       "    <tr>\n",
       "      <td>4</td>\n",
       "      <td>4</td>\n",
       "      <td>02/08/2017</td>\n",
       "      <td>Click2Clinic</td>\n",
       "      <td>Consumer Internet</td>\n",
       "      <td>healthcare service aggregator</td>\n",
       "      <td>Hyderabad</td>\n",
       "      <td>Narottam Thudi, Shireesh Palle</td>\n",
       "      <td>Seed Funding</td>\n",
       "      <td>850,000</td>\n",
       "      <td>NaN</td>\n",
       "    </tr>\n",
       "  </tbody>\n",
       "</table>\n",
       "</div>"
      ],
      "text/plain": [
       "   SNo        Date   StartupName   IndustryVertical  \\\n",
       "0    0  01/08/2017      TouchKin         Technology   \n",
       "1    1  02/08/2017       Ethinos         Technology   \n",
       "2    2  02/08/2017  Leverage Edu  Consumer Internet   \n",
       "3    3  02/08/2017          Zepo  Consumer Internet   \n",
       "4    4  02/08/2017  Click2Clinic  Consumer Internet   \n",
       "\n",
       "                                     SubVertical CityLocation  \\\n",
       "0                       Predictive Care Platform    Bangalore   \n",
       "1                       Digital Marketing Agency       Mumbai   \n",
       "2  Online platform for Higher Education Services    New Delhi   \n",
       "3                         DIY Ecommerce platform       Mumbai   \n",
       "4                  healthcare service aggregator    Hyderabad   \n",
       "\n",
       "                                       InvestorsName  InvestmentType  \\\n",
       "0                                        Kae Capital  Private Equity   \n",
       "1                         Triton Investment Advisors  Private Equity   \n",
       "2  Kashyap Deorah, Anand Sankeshwar, Deepak Jain,...    Seed Funding   \n",
       "3  Kunal Shah, LetsVenture, Anupam Mittal, Hetal ...    Seed Funding   \n",
       "4                     Narottam Thudi, Shireesh Palle    Seed Funding   \n",
       "\n",
       "  AmountInUSD Remarks  \n",
       "0   1,300,000     NaN  \n",
       "1         NaN     NaN  \n",
       "2         NaN     NaN  \n",
       "3     500,000     NaN  \n",
       "4     850,000     NaN  "
      ]
     },
     "execution_count": 1,
     "metadata": {},
     "output_type": "execute_result"
    }
   ],
   "source": [
    "import pandas as pd\n",
    "import csv\n",
    "import numpy as np\n",
    "import matplotlib.pyplot as plt\n",
    "\n",
    "data=pd.read_csv('startup_funding.csv')\n",
    "data.head()"
   ]
  },
  {
   "cell_type": "code",
   "execution_count": 2,
   "metadata": {},
   "outputs": [
    {
     "name": "stdout",
     "output_type": "stream",
     "text": [
      "2015 936\n",
      "2016 993\n",
      "2017 443\n"
     ]
    },
    {
     "data": {
      "text/plain": [
       "[<matplotlib.lines.Line2D at 0x121c1d4d0>]"
      ]
     },
     "execution_count": 2,
     "metadata": {},
     "output_type": "execute_result"
    },
    {
     "data": {
      "image/png": "[encoded data removed]",
      "text/plain": [
       "<Figure size 432x288 with 1 Axes>"
      ]
     },
     "metadata": {
      "needs_background": "light"
     },
     "output_type": "display_data"
    }
   ],
   "source": [
    "data=pd.read_csv('startup_funding.csv')\n",
    "year=data['Date']\n",
    "y2=[]\n",
    "for i in year:\n",
    "    x=i.split('/')[-1]\n",
    "    if '.' in x:\n",
    "        y=x.split('.')[-1]\n",
    "        y2.append(int(y))\n",
    "    else:\n",
    "        y2.append(int(x))\n",
    "data['Year']=y2    \n",
    "ans=data['Year'].value_counts()\n",
    "ans.sort_index(inplace=True)\n",
    "x=ans.index\n",
    "y=ans.values\n",
    "for i in range(len(x)):\n",
    "    print(x[i],y[i])\n",
    "plt.plot(x,y)    "
   ]
  },
  {
   "cell_type": "code",
   "execution_count": 22,
   "metadata": {},
   "outputs": [
    {
     "name": "stdout",
     "output_type": "stream",
     "text": [
      "2015 936\n",
      "2017 993\n",
      "2017 443\n"
     ]
    },
    {
     "data": {
      "text/plain": [
       "[<matplotlib.lines.Line2D at 0x122f52e10>]"
      ]
     },
     "execution_count": 22,
     "metadata": {},
     "output_type": "execute_result"
    },
    {
     "data": {
      "image/png": "[encoded data removed]",
      "text/plain": [
       "<Figure size 432x288 with 1 Axes>"
      ]
     },
     "metadata": {
      "needs_background": "light"
     },
     "output_type": "display_data"
    }
   ],
   "source": [
    "data=pd.read_csv('startup_funding.csv')\n",
    "y_2015=0\n",
    "y_2016=0\n",
    "y_2017=0\n",
    "for i in data['Date'].values:\n",
    "    if '2015' in i:\n",
    "        y_2015+=1\n",
    "    elif '2016' in i:\n",
    "        y_2016+=1\n",
    "    elif '2017' in i:\n",
    "        y_2017+=1\n",
    "x=['2015','2017','2017']\n",
    "y=[y_2015,y_2016,y_2017]\n",
    "for i in range(len(x)):\n",
    "    print(x[i],y[i])\n",
    "plt.plot(x,y)    "
   ]
  },
  {
   "cell_type": "markdown",
   "metadata": {},
   "source": [
    "# 2."
   ]
  },
  {
   "cell_type": "code",
   "execution_count": null,
   "metadata": {},
   "outputs": [],
   "source": [
    "TOP INDIAN CITIES\n",
    "\n",
    "Given File 'startup_funding.csv'\n",
    "Problem Statement :\n",
    "Find out which cities are generally chosen for starting a startup.\n",
    "Find top 10 Indian cities which have most number of startups ?\n",
    "Plot a pie chart and visualise it.\n",
    "Print the city name and number of startups in that city also.\n",
    "Note :\n",
    "Take city name \"Delhi\" as \"New Delhi\".\n",
    "Check the case-sensitiveness of cities also. That means - at some place, instead of \"Bangalore\", \"bangalore\" is given. Take city name as \"Bangalore\".\n",
    "For few startups multiple locations are given, one Indian and one Foreign. Count those startups in Indian startup also. Indian city name is first.\n",
    "Print the city in descending order with respect to the number of startups.\n",
    "Output Format :\n",
    "city1 number1\n",
    "city2 number2\n",
    ". . . "
   ]
  },
  {
   "cell_type": "code",
   "execution_count": 3,
   "metadata": {},
   "outputs": [
    {
     "name": "stdout",
     "output_type": "stream",
     "text": [
      "Bangalore 628\n",
      "Mumbai 446\n",
      "New Delhi 385\n",
      "Gurgaon 240\n",
      "Pune 84\n",
      "Noida 78\n",
      "Hyderabad 76\n",
      "Chennai 66\n",
      "Ahmedabad 35\n",
      "Jaipur 25\n"
     ]
    },
    {
     "data": {
      "image/png": "[encoded data removed]",
      "text/plain": [
       "<Figure size 432x288 with 1 Axes>"
      ]
     },
     "metadata": {},
     "output_type": "display_data"
    }
   ],
   "source": [
    "data=pd.read_csv('startup_funding.csv')\n",
    "\n",
    "cities=data['CityLocation']\n",
    "cities.replace('bangalore','Bangalore',inplace=True)\n",
    "cities.replace('Delhi','New Delhi',inplace=True)\n",
    "\n",
    "ans=cities.value_counts().sort_values(ascending=False)\n",
    "\n",
    "city=ans.index[:10]\n",
    "number=ans.values[:10]\n",
    "\n",
    "for i in range(10):\n",
    "    print(city[i],number[i])\n",
    "    \n",
    "plt.pie(number,labels=city,autopct='%1.2f%%')\n",
    "plt.legend()\n",
    "plt.show()    "
   ]
  },
  {
   "cell_type": "code",
   "execution_count": 29,
   "metadata": {},
   "outputs": [
    {
     "name": "stdout",
     "output_type": "stream",
     "text": [
      "Bangalore 635\n",
      "Mumbai 449\n",
      "New Delhi 389\n",
      "Gurgaon 241\n",
      "Pune 91\n",
      "Noida 79\n",
      "Hyderabad 77\n",
      "Chennai 67\n",
      "Ahmedabad 35\n",
      "Jaipur 25\n"
     ]
    },
    {
     "data": {
      "image/png": "[encoded data removed]",
      "text/plain": [
       "<Figure size 432x288 with 1 Axes>"
      ]
     },
     "metadata": {},
     "output_type": "display_data"
    }
   ],
   "source": [
    "data=pd.read_csv('startup_funding.csv')\n",
    "\n",
    "cities=data['CityLocation']\n",
    "cities.dropna(inplace=True)\n",
    "\n",
    "def cityslash(city):\n",
    "    x=city.split('/')[0]\n",
    "    cities.replace(city,x.strip(),inplace=True)\n",
    "\n",
    "cities.apply(cityslash)\n",
    "cities.replace('bangalore','Bangalore',inplace=True)\n",
    "cities.replace('Delhi','New Delhi',inplace=True)\n",
    "\n",
    "ans=cities.value_counts().sort_values(ascending=False)\n",
    "\n",
    "city=ans.index[:10]\n",
    "number=ans.values[:10]\n",
    "\n",
    "for i in range(10):\n",
    "    print(city[i],number[i])\n",
    "    \n",
    "plt.pie(number,labels=city,autopct='%1.2f%%')\n",
    "plt.legend()\n",
    "plt.show()    "
   ]
  },
  {
   "cell_type": "code",
   "execution_count": null,
   "metadata": {},
   "outputs": [],
   "source": [
    "data=pd.read_csv('startup_funding.csv')\n",
    "\n",
    "cities=data['CityLocation']\n",
    "cities.dropna(inplace=True)\n",
    "\n",
    "def cityslash(city):\n",
    "    x=city.split('/')[0]\n",
    "    cities.replace(city,x.strip(),inplace=True)\n",
    "\n",
    "cities.apply(cityslash)\n",
    "cities.replace('bangalore','Bangalore',inplace=True)\n",
    "cities.replace('Delhi','New Delhi',inplace=True)\n",
    "\n",
    "ans=cities.value_counts().sort_values(ascending=False)\n",
    "\n",
    "city=ans.index[:10]\n",
    "number=ans.values[:10]\n",
    "\n",
    "for i in range(10):\n",
    "    print(city[i],number[i])\n",
    "    \n",
    "plt.pie(number,labels=city,autopct='%1.2f%%')\n",
    "plt.legend()\n",
    "plt.show()    "
   ]
  },
  {
   "cell_type": "code",
   "execution_count": 30,
   "metadata": {},
   "outputs": [
    {
     "name": "stdout",
     "output_type": "stream",
     "text": [
      "Bangalore 628\n",
      "Mumbai 446\n",
      "New Delhi 385\n",
      "Gurgaon 240\n",
      "Pune 84\n",
      "Noida 78\n",
      "Hyderabad 76\n",
      "Chennai 66\n",
      "Ahmedabad 35\n",
      "Jaipur 25\n"
     ]
    },
    {
     "data": {
      "image/png": "[encoded data removed]",
      "text/plain": [
       "<Figure size 432x288 with 1 Axes>"
      ]
     },
     "metadata": {},
     "output_type": "display_data"
    }
   ],
   "source": [
    "data=pd.read_csv('startup_funding.csv')\n",
    "\n",
    "cities=data['CityLocation']\n",
    "cities.dropna(inplace=True)\n",
    "\n",
    "def cityslash(city):\n",
    "    x=city.split('/')[0]\n",
    "    return x.strip()\n",
    "\n",
    "cities.apply(cityslash)\n",
    "cities.replace('bangalore','Bangalore',inplace=True)\n",
    "cities.replace('Delhi','New Delhi',inplace=True)\n",
    "\n",
    "ans=cities.value_counts().sort_values(ascending=False)\n",
    "\n",
    "city=ans.index[:10]\n",
    "number=ans.values[:10]\n",
    "\n",
    "for i in range(10):\n",
    "    print(city[i],number[i])\n",
    "    \n",
    "plt.pie(number,labels=city,autopct='%1.2f%%')\n",
    "plt.legend()\n",
    "plt.show()    "
   ]
  },
  {
   "cell_type": "markdown",
   "metadata": {},
   "source": [
    "# 3."
   ]
  },
  {
   "cell_type": "code",
   "execution_count": null,
   "metadata": {},
   "outputs": [],
   "source": [
    "FUNDING AMOUNT\n",
    "\n",
    "Given File 'startup_funding.csv'\n",
    "Problem Statement :\n",
    "Find out if cities play any role in receiving funding.\n",
    "Find top 10 Indian cities with most amount of fundings received. Find out percentage of funding each city has got (among top 10 Indian cities only).\n",
    "Print the city and percentage with 2 decimal place after rounding off.\n",
    "Note:\n",
    "Take city name \"Delhi\" as \"New Delhi\".\n",
    "Check the case-sensitiveness of cities also. That means - at some place, instead of \"Bangalore\", \"bangalore\" is given. Take city name as \"Bangalore\".\n",
    "For few startups multiple locations are given, one Indian and one Foreign. Count those startups in Indian startup also. Indian city name is first.\n",
    "Print the city in descending order with respect to the percentage of funding.\n",
    "Output Format :\n",
    "city1 percent1\n",
    "city2 percent2\n",
    "city3 percent3"
   ]
  },
  {
   "cell_type": "code",
   "execution_count": 4,
   "metadata": {},
   "outputs": [
    {
     "name": "stdout",
     "output_type": "stream",
     "text": [
      "Bangalore 49.71\n",
      "New Delhi 16.63\n",
      "Mumbai 13.90\n",
      "Gurgaon 12.21\n",
      "Chennai 2.43\n",
      "Pune 2.16\n",
      "Hyderabad 1.15\n",
      "Noida 1.01\n",
      "Ahmedabad 0.58\n",
      "Jaipur 0.21\n"
     ]
    }
   ],
   "source": [
    "data=pd.read_csv('startup_funding.csv')\n",
    "\n",
    "data.dropna(subset=['AmountInUSD','CityLocation'],inplace=True)\n",
    "\n",
    "def cityslash(city):\n",
    "    return city.split('/')[0].strip()\n",
    "\n",
    "data['CityLocation'].replace('bangalore','Bangalore',inplace=True)\n",
    "data['CityLocation'].replace('Delhi','New Delhi',inplace=True)\n",
    "\n",
    "data['CityLocation']=data['CityLocation'].apply(cityslash)\n",
    "\n",
    "data['AmountInUSD']=data['AmountInUSD'].str.replace(',','').astype(int)\n",
    "\n",
    "ans=data.groupby(['CityLocation'])['AmountInUSD'].sum().sort_values(ascending=False)\n",
    "city=ans.index[:10]\n",
    "values=ans.values[:10]\n",
    "total=values.sum()\n",
    "for i in range(10):\n",
    "    t=(values[i]/total)*100\n",
    "    print(city[i],format(t,'.2f'))"
   ]
  },
  {
   "cell_type": "markdown",
   "metadata": {},
   "source": [
    "# 4."
   ]
  },
  {
   "cell_type": "code",
   "execution_count": null,
   "metadata": {},
   "outputs": [],
   "source": [
    "INVESTMENT TYPE\n",
    "\n",
    "Given File 'startup_funding.csv'\n",
    "Problem Statement :\n",
    "There are 4 different type of investments. Find out percentage of amount funded for each investment type.\n",
    "Plot a pie chart to visualise.\n",
    "Print the investment type and percentage of amount funded with 2 decimal places after rounding off.\n",
    "Note :\n",
    "Correct spelling of investment types are - \"Private Equity\", \"Seed Funding\", \"Debt Funding\", and \"Crowd Funding\". Keep an eye for any spelling mistake. You can find this by printing unique values from this column.\n",
    "Print the investment type in descending order with respect to the percentage of the amount funded.\n",
    "Output Format :\n",
    "investmentType1 percent1\n",
    "investmentType2 percent2\n",
    "investmentType3 percent3\n",
    ". . . "
   ]
  },
  {
   "cell_type": "code",
   "execution_count": 5,
   "metadata": {},
   "outputs": [
    {
     "name": "stdout",
     "output_type": "stream",
     "text": [
      "Private Equity 98.15\n",
      "Seed Funding 1.81\n",
      "Debt Funding 0.04\n",
      "Crowd Funding 0.00\n"
     ]
    },
    {
     "data": {
      "image/png": "[encoded data removed]",
      "text/plain": [
       "<Figure size 432x288 with 1 Axes>"
      ]
     },
     "metadata": {},
     "output_type": "display_data"
    }
   ],
   "source": [
    "data=pd.read_csv('startup_funding.csv')\n",
    "\n",
    "data.dropna(subset=['AmountInUSD'],inplace=True)\n",
    "\n",
    "data['InvestmentType'].replace('Crowd funding','Crowd Funding',inplace=True)\n",
    "data['InvestmentType'].replace('PrivateEquity','Private Equity',inplace=True)\n",
    "data['InvestmentType'].replace('SeedFunding','Seed Funding',inplace=True)\n",
    "\n",
    "data['AmountInUSD']=data['AmountInUSD'].str.replace(',','').astype(int)\n",
    "\n",
    "ans=data.groupby(['InvestmentType'])['AmountInUSD'].sum().sort_values(ascending=False)\n",
    "\n",
    "inv=ans.index\n",
    "value=ans.values\n",
    "\n",
    "total=ans.sum()\n",
    "for i in range(4):\n",
    "    t=value[i]/total*100\n",
    "    print(inv[i],format(t,'.2f'))\n",
    "    \n",
    "plt.pie(value,labels=inv)  \n",
    "plt.legend()\n",
    "plt.show()"
   ]
  },
  {
   "cell_type": "markdown",
   "metadata": {},
   "source": [
    "# 5."
   ]
  },
  {
   "cell_type": "code",
   "execution_count": null,
   "metadata": {},
   "outputs": [],
   "source": [
    "TOP INDUSTRIES\n",
    "\n",
    "Given File 'startup_funding.csv'\n",
    "Problem Statement :\n",
    "Which type of companies got more easily funding. To answer this question, find -\n",
    "Top 5 industries and percentage of the total amount funded to that industry. (among top 5 only)\n",
    "Print the industry name and percentage of the amount funded with 2 decimal place after rounding off.\n",
    "Note :\n",
    "Ecommerce is the right word in IndustryVertical, so correct it.\n",
    "Print the industry in descending order with respect to the percentage of the amount funded.\n",
    "Output Format :\n",
    "industry1 percent1\n",
    "industry2 percent2\n",
    "industry3 percent3\n",
    ". . . "
   ]
  },
  {
   "cell_type": "code",
   "execution_count": 6,
   "metadata": {},
   "outputs": [
    {
     "name": "stdout",
     "output_type": "stream",
     "text": [
      "Ecommerce 40.53\n",
      "Consumer Internet 35.95\n",
      "Technology 10.45\n",
      "Online Marketplace 6.63\n",
      "E-Commerce & M-Commerce platform 6.44\n"
     ]
    }
   ],
   "source": [
    "data=pd.read_csv('startup_funding.csv')\n",
    "\n",
    "data.dropna(subset=['AmountInUSD'],inplace=True)\n",
    "\n",
    "data['IndustryVertical'].replace('eCommerce','Ecommerce',inplace=True)\n",
    "data['IndustryVertical'].replace('ECommerce','Ecommerce',inplace=True)\n",
    "data['IndustryVertical'].replace('ecommerce','Ecommerce',inplace=True)\n",
    "\n",
    "data['AmountInUSD']=data['AmountInUSD'].str.replace(',','').astype(int)\n",
    "\n",
    "ans=data.groupby(['IndustryVertical'])['AmountInUSD'].sum().sort_values(ascending=False)\n",
    "\n",
    "indu=ans.index[:5]\n",
    "value=ans.values[:5]\n",
    "total=value.sum()\n",
    "for i in range(5):\n",
    "    t=value[i]/total*100\n",
    "    print(indu[i],format(t,'.2f'))"
   ]
  },
  {
   "cell_type": "markdown",
   "metadata": {},
   "source": [
    "# 6."
   ]
  },
  {
   "cell_type": "code",
   "execution_count": null,
   "metadata": {},
   "outputs": [],
   "source": [
    "TOP STARTUPS\n",
    "\n",
    "Given File 'startup_funding.csv'\n",
    "Problem Statement :\n",
    "Find top 5 startups with most amount of total funding.\n",
    "Print the startup name in descending order with respect to amount of funding.\n",
    "Note:\n",
    "Ola, Flipkart, Oyo, Paytm are important startups, so correct their names. There are many errors in startup names, ignore correcting all, just handle important ones.\n",
    "Output Format :\n",
    "startup1\n",
    "startup2\n",
    "startup3\n",
    ". . . \n",
    "\n"
   ]
  },
  {
   "cell_type": "code",
   "execution_count": 7,
   "metadata": {},
   "outputs": [
    {
     "name": "stdout",
     "output_type": "stream",
     "text": [
      "Paytm\n",
      "Flipkart\n",
      "Ola\n",
      "Snapdeal\n",
      "Oyo\n"
     ]
    }
   ],
   "source": [
    "data=pd.read_csv('startup_funding.csv')\n",
    "\n",
    "data.dropna(subset=['AmountInUSD'],inplace=True)\n",
    "\n",
    "data['StartupName'].replace('OYO','Oyo',inplace=True)\n",
    "data['StartupName'].replace('OYO','Oyo',inplace=True)\n",
    "data['StartupName'].replace('OYO Rooms','Oyo',inplace=True)\n",
    "data['StartupName'].replace('Oyo Rooms','Oyo',inplace=True)\n",
    "data['StartupName'].replace('Oyorooms','Oyo',inplace=True)\n",
    "data['StartupName'].replace('OyoRooms','Oyo',inplace=True)\n",
    "\n",
    "data['StartupName'].replace('Flipkart.com','Flipkart',inplace=True)\n",
    "\n",
    "data['StartupName'].replace('Olacabs','Ola',inplace=True)\n",
    "data['StartupName'].replace('Ola Cabs','Ola',inplace=True)\n",
    "data['StartupName'].replace('Truckola','Ola',inplace=True)\n",
    "\n",
    "data['StartupName'].replace('Paytm Marketplace','Paytm',inplace=True)\n",
    "\n",
    "data['AmountInUSD']=data['AmountInUSD'].str.replace(',','').astype(int)\n",
    "\n",
    "ans=data.groupby(['StartupName'])['AmountInUSD'].sum().sort_values(ascending=False)\n",
    "\n",
    "sta=ans.index[:5]\n",
    "\n",
    "for i in range(5):\n",
    "    print(sta[i])"
   ]
  },
  {
   "cell_type": "markdown",
   "metadata": {},
   "source": [
    "# 7."
   ]
  },
  {
   "cell_type": "code",
   "execution_count": null,
   "metadata": {},
   "outputs": [],
   "source": [
    "FUNDING ROUNDS\n",
    "\n",
    "Given File 'startup_funding.csv'\n",
    "Problem Statement :\n",
    "Find the top 5 startups who received the most number of funding rounds. That means, startups which got fundings maximum number of times.\n",
    "Print the startup name in descending order with respect to the number of funding round as integer value.\n",
    "Note:\n",
    "Ola, Flipkart, Oyo, Paytm are important startups, so correct their names. There are many errors in startup names, ignore correcting all, just handle important ones.\n",
    "Output Format :\n",
    "startup1 number1\n",
    "startup2 number2\n",
    "startup3 number3\n",
    ". . . "
   ]
  },
  {
   "cell_type": "code",
   "execution_count": 8,
   "metadata": {},
   "outputs": [
    {
     "name": "stdout",
     "output_type": "stream",
     "text": [
      "Ola 9\n",
      "Swiggy 7\n",
      "Oyo 6\n",
      "UrbanClap 5\n",
      "Flipkart 5\n"
     ]
    }
   ],
   "source": [
    "data=pd.read_csv('startup_funding.csv')\n",
    "\n",
    "data.dropna(subset=['AmountInUSD'],inplace=True)\n",
    "\n",
    "data['StartupName'].replace('OYO','Oyo',inplace=True)\n",
    "data['StartupName'].replace('OYO','Oyo',inplace=True)\n",
    "data['StartupName'].replace('OYO Rooms','Oyo',inplace=True)\n",
    "data['StartupName'].replace('Oyo Rooms','Oyo',inplace=True)\n",
    "data['StartupName'].replace('Oyorooms','Oyo',inplace=True)\n",
    "data['StartupName'].replace('OyoRooms','Oyo',inplace=True)\n",
    "\n",
    "data['StartupName'].replace('Flipkart.com','Flipkart',inplace=True)\n",
    "\n",
    "data['StartupName'].replace('Olacabs','Ola',inplace=True)\n",
    "data['StartupName'].replace('Ola Cabs','Ola',inplace=True)\n",
    "data['StartupName'].replace('Truckola','Ola',inplace=True)\n",
    "\n",
    "data['StartupName'].replace('Paytm Marketplace','Paytm',inplace=True)\n",
    "\n",
    "ans=data['StartupName'].value_counts().sort_values(ascending=False)\n",
    "\n",
    "star=ans.index[:5]\n",
    "val=ans.values[:5]\n",
    "for i in range(5):\n",
    "    print(star[i],val[i])"
   ]
  },
  {
   "cell_type": "markdown",
   "metadata": {},
   "source": [
    "# 8."
   ]
  },
  {
   "cell_type": "code",
   "execution_count": null,
   "metadata": {},
   "outputs": [],
   "source": [
    "TOP INVESTOR\n",
    "\n",
    "Given File 'startup_funding.csv'\n",
    "Problem Statement :\n",
    "Find the Investors who have invested maximum number of times.\n",
    "Print the investor name and number of times invested as integer value.\n",
    "Note:\n",
    "In startup, multiple investors might have invested. So consider each investor for that startup.\n",
    "Ignore the undisclosed investors.\n",
    "Output Format :\n",
    "investorname number"
   ]
  },
  {
   "cell_type": "code",
   "execution_count": 9,
   "metadata": {},
   "outputs": [
    {
     "name": "stdout",
     "output_type": "stream",
     "text": [
      "Sequoia Capital\n"
     ]
    }
   ],
   "source": [
    "data=pd.read_csv('startup_funding.csv')\n",
    "data['InvestorsName'].dropna(inplace=True)\n",
    "main=data['InvestorsName'].values\n",
    "d={}\n",
    "for i in range(len(main)):\n",
    "    x=main[i].split(',')\n",
    "    for j in x:\n",
    "        if 'undisclosed' not in j.lower():\n",
    "            d[j.strip()]=d.get(j.strip(),0)+1\n",
    "ans=pd.DataFrame(d.keys(),d.values()).sort_index(ascending=False)\n",
    "print(ans.values[0][0])"
   ]
  }
 ],
 "metadata": {
  "kernelspec": {
   "display_name": "Python 3",
   "language": "python",
   "name": "python3"
  },
  "language_info": {
   "codemirror_mode": {
    "name": "ipython",
    "version": 3
   },
   "file_extension": ".py",
   "mimetype": "text/x-python",
   "name": "python",
   "nbconvert_exporter": "python",
   "pygments_lexer": "ipython3",
   "version": "3.7.4"
  }
 },
 "nbformat": 4,
 "nbformat_minor": 2
}
