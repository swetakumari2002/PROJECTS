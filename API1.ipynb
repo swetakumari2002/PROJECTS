{
 "cells": [
  {
   "cell_type": "markdown",
   "metadata": {},
   "source": [
    "# PROJECT DETAILS"
   ]
  },
  {
   "cell_type": "markdown",
   "metadata": {},
   "source": [
    "For this project, we are using the Zomato API.\n",
    "Zomato APIs give you access to the freshest and most exhaustive information for over 1.5 million restaurants across 10,000 cities globally.\n",
    "Zomato API documentation link: https://developers.zomato.com/api\n",
    "Our Motivation for using Zomato API\n",
    "By Collecting the data using Zomato API one can recommend restaurants on the basis of user’s affinity to specific cuisines, establishment types, locations, and price bands.\n",
    "We can find out whether restaurant support online reservation or not.\n",
    "We can find what is the most popular and/ or exclusive/new at a given location & time."
   ]
  },
  {
   "cell_type": "code",
   "execution_count": null,
   "metadata": {},
   "outputs": [],
   "source": [
    "Mexican cuisine began about 9,000 years ago, when agricultural communities such as the Maya formed, domesticating maize, creating the standard process of corn nixtamalization, and establishing their foodways.\n",
    "You are a huge fan of ‘Mexican’ cuisine. Now using the Zomato API you want to analyse the best restaurant serving the Mexican Cuisine, their locations, and cost for two, etc.\n",
    "There is a list of questions related to Mexican cuisines given in the next section.\n"
   ]
  },
  {
   "cell_type": "code",
   "execution_count": 65,
   "metadata": {},
   "outputs": [
    {
     "name": "stdout",
     "output_type": "stream",
     "text": [
      "1\n"
     ]
    }
   ],
   "source": [
    "import requests\n",
    "import json\n",
    "p={\"Accept\":'application/json','user-key':'4ef616c768b5185f9d21940a6199234f'}\n",
    "a=requests.get('https://developers.zomato.com/api/v2.1/cities?lat=28.70411&lon=77.102525',headers=p)\n",
    "ans=a.json()\n",
    "print(ans['location_suggestions'][0]['id'])"
   ]
  },
  {
   "cell_type": "markdown",
   "metadata": {},
   "source": [
    "# 1.1"
   ]
  },
  {
   "cell_type": "code",
   "execution_count": null,
   "metadata": {},
   "outputs": [],
   "source": [
    "Fetch the cuisine_id of ‘Mexican’ cuisine using Zomato API.\n",
    "Print the cuisine_id.\n",
    "Output Format:\n",
    "cuisine_id"
   ]
  },
  {
   "cell_type": "code",
   "execution_count": 64,
   "metadata": {},
   "outputs": [
    {
     "name": "stdout",
     "output_type": "stream",
     "text": [
      "73\n"
     ]
    }
   ],
   "source": [
    "###latitude and longitude of delhi\n",
    "\n",
    "a=requests.get('https://developers.zomato.com/api/v2.1/cuisines?city_id=1',headers=p) \n",
    "ans=a.json()\n",
    "for i in ans['cuisines']:\n",
    "    j=i['cuisine']\n",
    "    if j['cuisine_name']=='Mexican':\n",
    "        print(j['cuisine_id'])"
   ]
  },
  {
   "cell_type": "markdown",
   "metadata": {},
   "source": [
    "# 1.3"
   ]
  },
  {
   "cell_type": "code",
   "execution_count": null,
   "metadata": {},
   "outputs": [],
   "source": [
    "Fetch the entityid and entitytype of place Connaught Place.\n",
    "Print the entityid and entitytype,\n",
    "Output Format:\n",
    "entity_type entity_id"
   ]
  },
  {
   "cell_type": "code",
   "execution_count": 15,
   "metadata": {},
   "outputs": [
    {
     "name": "stdout",
     "output_type": "stream",
     "text": [
      "104 subzone\n"
     ]
    }
   ],
   "source": [
    "a=requests.get('https://developers.zomato.com/api/v2.1/locations?query=Connaught%20Place',headers=p)\n",
    "ans=a.json()\n",
    "for i in ans['location_suggestions']:\n",
    "    print(i['entity_id'],i['entity_type'])"
   ]
  },
  {
   "cell_type": "markdown",
   "metadata": {},
   "source": [
    "# 1.4"
   ]
  },
  {
   "cell_type": "code",
   "execution_count": null,
   "metadata": {},
   "outputs": [],
   "source": [
    "Fetch the top 10 best-rated restaurant serving ‘Mexican’ cuisine present in Connaught Place.\n",
    "Print the restaurant name, user rating and restaurant id.\n",
    "Output Format:\n",
    "name_1 rating_1 id_1\n",
    "name_2 rating_2 id_2\n",
    "name_3 rating_3 id_3\n",
    ". . ."
   ]
  },
  {
   "cell_type": "code",
   "execution_count": 20,
   "metadata": {},
   "outputs": [
    {
     "name": "stdout",
     "output_type": "stream",
     "text": [
      "Big Bang City 19265141 4.8\n",
      "Daryaganj 19028883 4.7\n",
      "Detroit 18625812 4.5\n",
      "Ministry Of Beer 18418277 4.5\n",
      "The G.T. Road 18454488 4.5\n",
      "Chili's Grill & Bar 18537536 4.5\n",
      "Rajdhani Thali Restaurant 1286 4.5\n",
      "The Darzi Bar & Kitchen 18423151 4.4\n",
      "Xero Degrees 18729557 4.4\n",
      "The Big Chill Cafe 18919107 4.4\n"
     ]
    }
   ],
   "source": [
    "a=requests.get('https://developers.zomato.com/api/v2.1/search?entity_id=104&entity_type=subzone&q=10&sort=rating',headers=p)\n",
    "ans=a.json()\n",
    "for i in range(10):\n",
    "    j=ans['restaurants'][i]['restaurant']\n",
    "    print(j['name'],j['id'],j['user_rating']['aggregate_rating'])"
   ]
  },
  {
   "cell_type": "markdown",
   "metadata": {},
   "source": [
    "# 1.5"
   ]
  },
  {
   "cell_type": "code",
   "execution_count": null,
   "metadata": {},
   "outputs": [],
   "source": [
    "Fetch the category id of category type ‘Cafes’ using Zomato API.\n",
    "Print the category_id.\n",
    "Output Format:\n",
    "category_id"
   ]
  },
  {
   "cell_type": "code",
   "execution_count": 24,
   "metadata": {},
   "outputs": [
    {
     "name": "stdout",
     "output_type": "stream",
     "text": [
      "6\n"
     ]
    }
   ],
   "source": [
    "a=requests.get('https://developers.zomato.com/api/v2.1/categories',headers=p)\n",
    "ans=a.json()\n",
    "for i in ans['categories']:\n",
    "    if i['categories']['name']=='Cafes':\n",
    "        print(i['categories']['id'])"
   ]
  },
  {
   "cell_type": "markdown",
   "metadata": {},
   "source": [
    "# 1.6"
   ]
  },
  {
   "cell_type": "code",
   "execution_count": null,
   "metadata": {},
   "outputs": [],
   "source": [
    "Fetch the best-rated restaurant for ‘Mexican’ cuisine with category type ‘ Cafes’ present in Connaught Place using Zomato API. Print the restaurant name, user rating and restaurant id. Output Format: name_1 rating_1 id_1 name_2 rating_2 id_2 name_3 rating_3 id_3"
   ]
  },
  {
   "cell_type": "code",
   "execution_count": 27,
   "metadata": {},
   "outputs": [
    {
     "name": "stdout",
     "output_type": "stream",
     "text": [
      "Xero Degrees 4.4 18729557\n",
      "The Art House Bar n Cafe 4.3 18863766\n",
      "Chaayos 4.0 18237315\n",
      "Cafe Delhi Heights 4.0 18579363\n",
      "Cafe Coffee Day - The Square 3.8 303034\n"
     ]
    }
   ],
   "source": [
    "a=requests.get('https://developers.zomato.com/api/v2.1/search?entity_id=104&entity_type=subzone&cuisines=73&category=6&sort=rating&order=desc',headers=p)\n",
    "ans=a.json()\n",
    "for i in ans['restaurants']:\n",
    "    j=i['restaurant']\n",
    "    print(j['name'],j['user_rating']['aggregate_rating'],j['id'])"
   ]
  },
  {
   "cell_type": "markdown",
   "metadata": {},
   "source": [
    "# 1.7"
   ]
  },
  {
   "cell_type": "code",
   "execution_count": null,
   "metadata": {},
   "outputs": [],
   "source": [
    "Fetch the latest review of the best-rated restaurant for ‘Mexican’ cuisine with Category type ‘Cafes’ present in Connaught Place using Zomato API. Print the name of user ,user rating and review text. Note : Due to limitation of basic API plan it, can only fetch 5 latest review Output Format: name1 user_rating1 review_text1 name2 user_rating2 review_text2 name3 user_rating3 review_text3 name4 user_rating4 review_text4 name5 user_rating5 review_text5"
   ]
  },
  {
   "cell_type": "code",
   "execution_count": 31,
   "metadata": {},
   "outputs": [
    {
     "name": "stdout",
     "output_type": "stream",
     "text": [
      "The Foodie Sista 4 I went here with my friends in this place as this is the popular food place here So I went ahead and ordered Pasta and Kikat shake. It was amazing having the shake with a great taste, also the Pasta was having a great taste and it was delicious. And it was worth of the prices. Overall it was a great experience having food here in this place. It was worth it of every single penny which I had spent here.\n",
      "Kanishka Kumar 5 \n",
      "Shikha Sharma 5 \n",
      "Goyal 5 \n",
      "Mewatpiyush 5 Yes, amazing place with good food and amazing and huge menu to spend with loved ones and we both loved the place but what i do not like much is the sitting arrangment was too much conjusted and rather all this i just loved everything about this cafe.... Just a good place to have some nice time 👍\n"
     ]
    }
   ],
   "source": [
    "a=requests.get('https://developers.zomato.com/api/v2.1/reviews?res_id=18729557',headers=p)\n",
    "ans=a.json()\n",
    "for i in ans['user_reviews']:\n",
    "    print(i['review']['user']['name'],i['review']['rating'],i['review']['review_text'])"
   ]
  },
  {
   "cell_type": "markdown",
   "metadata": {},
   "source": [
    "# 2.2"
   ]
  },
  {
   "cell_type": "code",
   "execution_count": null,
   "metadata": {},
   "outputs": [],
   "source": [
    "Fetch the details of restaurant 736 AD using Zomato API.\n",
    "Print the user rating, average cost for two, cuisines and address of 736 AD.\n",
    "Output Format:\n",
    "user_rating\n",
    "average_cost_for_two\n",
    "cuisines\n",
    "address"
   ]
  },
  {
   "cell_type": "code",
   "execution_count": 34,
   "metadata": {},
   "outputs": [
    {
     "name": "stdout",
     "output_type": "stream",
     "text": [
      "736 A.D. 18241524\n",
      "Manchanda Bakery 18228864\n",
      "Chinese Food Point 18902181\n",
      "HungerTop 18970684\n",
      "Chinese Food Point 19163978\n"
     ]
    }
   ],
   "source": [
    "a=requests.get('https://developers.zomato.com/api/v2.1/search?q=736&lat=28.61339391&lon=77.2090212000000',headers=p)\n",
    "ans=a.json()\n",
    "for i in ans['restaurants']:\n",
    "    j=i['restaurant']\n",
    "    print(j['name'],j['id'])"
   ]
  },
  {
   "cell_type": "code",
   "execution_count": 47,
   "metadata": {},
   "outputs": [
    {
     "name": "stdout",
     "output_type": "stream",
     "text": [
      "4.2\n",
      "1400\n",
      "North Indian, Continental, Italian, Chinese\n",
      "G-15/B, Vijay Nagar, New Delhi\n"
     ]
    }
   ],
   "source": [
    "a=requests.get('https://developers.zomato.com/api/v2.1/restaurant?res_id=18241524',headers=p)\n",
    "ans=a.json()\n",
    "print(ans['user_rating']['aggregate_rating'])\n",
    "print(ans['average_cost_for_two'])\n",
    "print(ans['cuisines'])\n",
    "print(ans['location']['address'])"
   ]
  },
  {
   "cell_type": "markdown",
   "metadata": {},
   "source": [
    "# 2.3"
   ]
  },
  {
   "cell_type": "code",
   "execution_count": null,
   "metadata": {},
   "outputs": [],
   "source": [
    "Find out whether online table reservation is supported in 736 AD or not using Zomato API.\n",
    "Print 'yes' if online table reservation is supported else 'no'\n",
    "Note :\n",
    "In Zomato response JSON. 1=Yes and 0 = No\n",
    "Output Format:\n",
    "yes/no"
   ]
  },
  {
   "cell_type": "code",
   "execution_count": 51,
   "metadata": {},
   "outputs": [
    {
     "name": "stdout",
     "output_type": "stream",
     "text": [
      "yes\n"
     ]
    }
   ],
   "source": [
    "if ans['is_table_reservation_supported']==1:\n",
    "    print('yes')\n",
    "else:\n",
    "    print('no')"
   ]
  },
  {
   "cell_type": "markdown",
   "metadata": {},
   "source": [
    "# 2.4"
   ]
  },
  {
   "cell_type": "code",
   "execution_count": null,
   "metadata": {},
   "outputs": [],
   "source": [
    "Fetch the latest review of restaurant 736 AD using Zomato API.\n",
    "Print the name of user ,user rating and review text.\n",
    "Note :\n",
    "Due to limitation of basic API plan, it can only fetch 5 latest review\n",
    "Output Format:\n",
    "name1 user_rating1 review_text1\n",
    "name2 user_rating2 review_text2\n",
    "name3 user_rating3 review_text3\n",
    "name4 user_rating4 review_text4\n",
    "name5 user_rating5 review_text5"
   ]
  },
  {
   "cell_type": "code",
   "execution_count": 55,
   "metadata": {},
   "outputs": [
    {
     "name": "stdout",
     "output_type": "stream",
     "text": [
      "Rddhameja21896 4 Ordered 1 LIIT cocktail and 1 30ml red label whisky. Ratings---> Ambience-4/5 Beverages-4/5 Music-4/5 Rooftop-4/5  Overall, a nice place to sit and relax.\n",
      "Ruchi Anand 5 Yesterday I went to 736 located at Hudson lane.. excellent restraunt... hospitality was amazing...they served good food and very delecious..I ordered Chicken burger Paneer tikka Kabab Butter chicken pizza Shakes Veg platter... All were yummy and delecious.. thanks for good hospitality.\n",
      "Vandana Choudhary 5 Few days back I visited this restro which had ancient style decor. I was really impressed with the decor and vibrant ambience. In starters I had achari paneer tikka which was spicy and delicious. I got to try dahi ke sholey and they were really soft and yummy. In veg platter too I tasted some great starters including tandoori aloo, mushroom and paneer tikka. Then I tried paneer tikka pizza which was one of the best pizzas, with crispy crust and paneer cubes and veggies as toppings. I tried the cocoa rust shake and it was refreshing. Would love to visit this place again soon!\n",
      "Nayan Jha 5 Today i visit 736 AD in Vijay Nagar   It's theme is very attractive and beautiful.  I tried fish finger, Chicken overloaded pizza and chicken lollipop.  Chicken lollipop was very good in taste like mouth watering  In main course i tried kadai chicken with butter naan it was amazing combo   Last but not least i tried brownie with ice cream.  Everything was amazing and service was really very amazing.   I recommend you to definitely visit there\n",
      "Rishi Agarwal 5 We went to 736 AD yesterday for a friend's birthday party and had a lot of fun there. We were a group of 6 and sat at the rooftop area as the other two floors were a little too cramped and noisy for our liking. We ordered many starters including the cheese garlic bread, chicken bruschetta, corn and cheese nuggets, honey chilli potato & classic chilli chicken. Out of these we loved the chicken bruschetta and corn and cheese nuggets the best and definitely will suggest them. Next we ordered the chicken steak sizzler and paneer tikka and an array of drinks to satiate our throats. While the paneer tikka tasted as one would ideally expect it to taste, the chicken steak came in a gravy sauce with a side of rice which was a surprise and not a pleasant one. On the other hand we also ordered 3 mocktails (Blue Lagoon, Water melon Tesco & Pina colado) out of which the Pina colado tasted the best! Apart from these we had also ordered a few shakes but none of them seemed exceptional. For main course we ordered a white sauce pasta and two pizzas (one veg one n. veg) all of which were decent. The pasta was not upto the mark in terms of taste and definitely could have been better while the pizzas (Smoky Chicken and Garden Veggie) both had very hard crusts but tasted well. Overall we had a nice experience at the restaurant and will definitely suggest the place for a nice hangout with friends!\n"
     ]
    }
   ],
   "source": [
    "a=requests.get('https://developers.zomato.com/api/v2.1/reviews?res_id=18241524',headers=p)\n",
    "ans=a.json()\n",
    "for i in ans['user_reviews']:\n",
    "    j=i['review']\n",
    "    print(j['user']['name'],j['rating'],j['review_text'])"
   ]
  },
  {
   "cell_type": "markdown",
   "metadata": {},
   "source": [
    "# 3.1"
   ]
  },
  {
   "cell_type": "code",
   "execution_count": null,
   "metadata": {},
   "outputs": [],
   "source": [
    "Fetch the cuisine_id of of cuisine ‘BBQ’ using Zomato API.\n",
    "Print the cuisine_id\n",
    "Output Format:\n",
    "cuisine_id"
   ]
  },
  {
   "cell_type": "code",
   "execution_count": 68,
   "metadata": {},
   "outputs": [
    {
     "name": "stdout",
     "output_type": "stream",
     "text": [
      "193\n"
     ]
    }
   ],
   "source": [
    "a=requests.get('https://developers.zomato.com/api/v2.1/cuisines?city_id=1',headers=p)\n",
    "ans=a.json()\n",
    "for i in ans['cuisines']:\n",
    "    if i['cuisine']['cuisine_name']=='BBQ':\n",
    "        print(i['cuisine']['cuisine_id'])"
   ]
  },
  {
   "cell_type": "markdown",
   "metadata": {},
   "source": [
    "# 3.2"
   ]
  },
  {
   "cell_type": "code",
   "execution_count": null,
   "metadata": {},
   "outputs": [],
   "source": [
    "Fetch the list of the top 10 restaurants serving cuisine ‘BBQ’ which are nearest to Coding Ninjas.\n",
    "Print the restaurant name, user rating, restaurant id and locality in which restaurant is present.\n",
    "Output Format:\n",
    "name_1 rating_1 id_1 locality_1\n",
    "name_2 rating_2 id_2 locality_2\n",
    "name_3 rating_3 id_3 locality_3\n",
    ". . .\n",
    ". . ."
   ]
  },
  {
   "cell_type": "code",
   "execution_count": 86,
   "metadata": {},
   "outputs": [
    {
     "name": "stdout",
     "output_type": "stream",
     "text": [
      "Themis Barbecue House 4.6 18204820 Netaji Subhash Place\n",
      "Barbeque Nation 4.1 9561 Netaji Subhash Place\n",
      "Bengal Bar-Be-Que 3.5 19250749 Pitampura\n",
      "New Bombay Bar-Be-Que 3.6 5303 Prashant Vihar\n",
      "UBQ by Barbeque Nation 3.8 19082741 Lawrence Road\n",
      "Moet's Barbeque 0 19238917 Alipur\n",
      "UBQ by Barbeque Nation 3.8 18889760 Rohini\n",
      "Kays Bar-Be-Que 3.8 3079 Ashok Vihar Phase 1\n",
      "Picnick Scooter Cafe 0 19149978 Punjabi Bagh\n",
      "7teen BBQ Bistro Bnq 3.8 18595610 Moti Nagar\n"
     ]
    }
   ],
   "source": [
    "a=requests.get('https://developers.zomato.com/api/v2.1/search?count=10&lat=28.6975&lon=77.1406&cuisines=193&sort=real_distance&order=asc',headers=p)\n",
    "ans=a.json()\n",
    "for i in ans['restaurants']:\n",
    "    j=i['restaurant']\n",
    "    print(j['name'],j['user_rating']['aggregate_rating'],j['id'],j['location']['locality'])"
   ]
  },
  {
   "cell_type": "markdown",
   "metadata": {},
   "source": [
    "# 3.3"
   ]
  },
  {
   "cell_type": "code",
   "execution_count": null,
   "metadata": {},
   "outputs": [],
   "source": [
    "Fetch the latest review of the restaurant serving cuisine ‘BBQ’ which is most nearest to Coding ninjas?\n",
    "Print the name of user ,user rating and review text.\n",
    "Note :\n",
    "Due to limitation of basic API plan it, can only fetch 5 latest review\n",
    "Output Format:\n",
    "name1 user_rating1 review_text1\n",
    "name2 user_rating2 review_text2\n",
    "name3 user_rating3 review_text3\n",
    "name4 user_rating4 review_text4\n",
    "name5 user_rating5 review_text5"
   ]
  },
  {
   "cell_type": "code",
   "execution_count": 79,
   "metadata": {},
   "outputs": [
    {
     "name": "stdout",
     "output_type": "stream",
     "text": [
      "Akansha 1 It was an extremely pathetic experience at Themis. What i heard i did not experience that at all. Such unhygienic and poorly managed place. 0 rating from my side\n",
      "Kumar Nishant 5 \n",
      "NihayatiBhukkad 5 The moment you enter, you are pleased by such a good ambiance; A buffet place serves great food with great taste. Starting from the starters till the main course, everything was perfect; not to forget their Welcome Chat and desserts too. We really enjoyed live music performance with live grilling on the table. Loved their services and staff behavior was very friendly. Kudos to their work.\n",
      "DILLI KE ZAAYKE 5 What a beautiful place to be! The ambience of the outdoor seating area is just amazing. The staff is also humble and polite. Talking of the food, we ordered paneer tikka for starters, dal makhni and garlic naan for main course. For dessert, we had gulab jamuns and black forest pastry. The paneer tikka was served on the table in a live tandoor. Nice concept. The dal makhni was flavourful and the naan was also wonderful. Gulab jamuns were so good, totally loved them. The small sized, cute looking black forest pastries were also nice. Overall a great experience.\n",
      "Ashmeet 5 Went on a lunch yesterday with my family at Themis barbeque which is in NSP.  We had non veg buffet there, barbeque items were amazing and snacks were up to the mark.  There was a great variety in main course as well. Everything was just great.  Desserts had my heart. The hot chocolate brownie was my favourite. Other items were also nice.  We had a great family time there with nice ambience too.\n"
     ]
    }
   ],
   "source": [
    "a=requests.get('https://developers.zomato.com/api/v2.1/reviews?res_id=18204820',headers=p)\n",
    "ans=a.json()\n",
    "for i in ans['user_reviews']:\n",
    "    print(i['review']['user']['name'],i['review']['rating'],i['review']['review_text'])"
   ]
  },
  {
   "cell_type": "markdown",
   "metadata": {},
   "source": [
    "# 3.4"
   ]
  },
  {
   "cell_type": "code",
   "execution_count": null,
   "metadata": {},
   "outputs": [],
   "source": [
    "Experiment with the radius parameter that is present in ‘GET/search’. Fetch the list of top 10 best-restaurant present in a radius of 4 km of coding ninjas.\n",
    "Print the restaurant name, user rating, restaurant id and locality in which restaurant is present.\n",
    "Output Format:\n",
    "name_1 rating_1 id_1 locality_1\n",
    "name_2 rating_2 id_2 locality_2\n",
    "name_3 rating_3 id_3 locality_3\n",
    ". . .\n",
    ". . ."
   ]
  },
  {
   "cell_type": "code",
   "execution_count": 83,
   "metadata": {},
   "outputs": [
    {
     "name": "stdout",
     "output_type": "stream",
     "text": [
      "Kanikas Kitchen 3.6 18540619 Pitampura\n",
      "361 Restaurant & Banquet 3.7 3362 Pitampura\n",
      "The Paanwala 3.3 18683708 Pitampura\n",
      "Grub Garden 4.1 18980844 Pitampura\n",
      "Cafe Maddox 3.8 19280614 Pitampura\n",
      "Frontier 0 18888270 Pitampura\n",
      "Mega Bite 0 18366868 Pitampura\n",
      "Joint Fast Food Corner 0 19082219 Pitampura\n",
      "Bobby Punjabi Rasoi 3.8 18783999 Pitampura\n",
      "Bobby Punjabi Rasoi 3.5 3967 Pitampura\n"
     ]
    }
   ],
   "source": [
    "a=requests.get('https://developers.zomato.com/api/v2.1/search?count=10&lat=28.6975&lon=77.1406&radius=4000&sort=real_distance&order=asc',headers=p)\n",
    "ans=a.json()\n",
    "for i in ans['restaurants']:\n",
    "    print(i['restaurant']['name'],i['restaurant']['user_rating']['aggregate_rating'],i['restaurant']['id'],i['restaurant']['location']['locality'])"
   ]
  },
  {
   "cell_type": "markdown",
   "metadata": {},
   "source": [
    "# 3.5"
   ]
  },
  {
   "cell_type": "code",
   "execution_count": null,
   "metadata": {},
   "outputs": [],
   "source": [
    "Compare the location of the restaurant whether really they are in a distance of 4 km to Coding Ninjas. Find out whether these API radius feature is working or not.\n",
    "Print 'yes' if radius feature work else print 'no'.\n",
    "Note :\n",
    "Use google search to find whether restaurant lie in range of 4km or not.\n",
    "Output Format:\n",
    "yes/no"
   ]
  },
  {
   "cell_type": "code",
   "execution_count": 85,
   "metadata": {},
   "outputs": [
    {
     "name": "stdout",
     "output_type": "stream",
     "text": [
      "no\n"
     ]
    }
   ],
   "source": [
    "print('no')"
   ]
  }
 ],
 "metadata": {
  "kernelspec": {
   "display_name": "Python 3",
   "language": "python",
   "name": "python3"
  },
  "language_info": {
   "codemirror_mode": {
    "name": "ipython",
    "version": 3
   },
   "file_extension": ".py",
   "mimetype": "text/x-python",
   "name": "python",
   "nbconvert_exporter": "python",
   "pygments_lexer": "ipython3",
   "version": "3.7.4"
  }
 },
 "nbformat": 4,
 "nbformat_minor": 2
}
