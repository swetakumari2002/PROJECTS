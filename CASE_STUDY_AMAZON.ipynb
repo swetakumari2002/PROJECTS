{
 "cells": [
  {
   "cell_type": "markdown",
   "metadata": {},
   "source": [
    "# AMAZON JOB DATASET"
   ]
  },
  {
   "cell_type": "markdown",
   "metadata": {},
   "source": [
    "For this assignment, we'll be using \"Amazon Job Dataset\" which is collected by scraping https://amazon.jobs.\n",
    "Different fields of dataset and what they represent\n",
    "Title : The title of the job\n",
    "Location : Location of the job\n",
    "Posting_date : Posting date of the job\n",
    "Description: Overall description for the job\n",
    "Basic Qualifications: Minimum Qualifications for the job\n",
    "Preferred Qualifications: Preferred Qualifications for the job\n",
    "By analysing this dataset, we can find out many interesting insights such as -\n",
    "- number of job openings in a specific location\n",
    "- jobs available for a specific qualification\n",
    "- Most popular skillset \n",
    "- and many other things\n"
   ]
  },
  {
   "cell_type": "markdown",
   "metadata": {},
   "source": [
    "Given File 'amazonjobsdataset.csv'\n",
    "It is a dataset including information on amazon job opening around the world from June 2011 to March 2018. This dataset is collected using Selenium and BeautifulSoup by scraping all of the jobs for Amazon job site."
   ]
  },
  {
   "cell_type": "markdown",
   "metadata": {},
   "source": [
    "JOB LOCATION\n",
    "\n",
    "Find number of job openings in Bangalore,IN and in Seattle,US?\n",
    "Print the Number of Job opening in Bangalore and Seattle as Integer value.\n",
    "Output Format :\n",
    "CountBangalore CountSeattle"
   ]
  },
  {
   "cell_type": "code",
   "execution_count": 1,
   "metadata": {},
   "outputs": [
    {
     "data": {
      "text/plain": [
       "(66, 1856)"
      ]
     },
     "execution_count": 1,
     "metadata": {},
     "output_type": "execute_result"
    }
   ],
   "source": [
    "import csv\n",
    "with open('amazon_jobs_dataset.csv') as file_obj:\n",
    "    file_data=csv.DictReader(file_obj)\n",
    "    file_list=list(file_data)\n",
    "\n",
    "bangalore=0\n",
    "seattle=0\n",
    "for i in file_list:\n",
    "    value=i['location']\n",
    "    if value=='US, WA, Seattle ':\n",
    "        seattle+=1\n",
    "    elif value=='IN, KA, Bangalore ':\n",
    "        bangalore+=1\n",
    "        \n",
    "bangalore,seattle        "
   ]
  },
  {
   "cell_type": "code",
   "execution_count": null,
   "metadata": {},
   "outputs": [],
   "source": [
    "JOB COMPUTER VISION\n",
    "\n",
    "What are the total number of job openings related to Computer Vision ?\n",
    "Note:For finding the job related to computer vision check the Job Title column.\n",
    "Print the count as the Integer Value\n",
    "Output Format :\n",
    "Count"
   ]
  },
  {
   "cell_type": "code",
   "execution_count": 11,
   "metadata": {},
   "outputs": [
    {
     "data": {
      "text/plain": [
       "14"
      ]
     },
     "execution_count": 11,
     "metadata": {},
     "output_type": "execute_result"
    }
   ],
   "source": [
    "import csv\n",
    "with open('amazon_jobs_dataset.csv') as file_obj:\n",
    "    file_data=csv.DictReader(file_obj)\n",
    "    file_list=list(file_data)\n",
    "    \n",
    "ans=0    \n",
    "for i in file_list:\n",
    "    value=i['Title']\n",
    "    if 'Computer Vision' in value:\n",
    "        ans+=1\n",
    "ans        "
   ]
  },
  {
   "cell_type": "code",
   "execution_count": null,
   "metadata": {},
   "outputs": [],
   "source": [
    "JOB CANADA\n",
    "\n",
    "Find the number of job openings in Canada?\n",
    "Print the count as the Integer Value\n",
    "Note: Here you should analyse the country code in location feature.( you can use dictionary for analyse part ).\n",
    "Output Format :\n",
    "Count"
   ]
  },
  {
   "cell_type": "code",
   "execution_count": 14,
   "metadata": {},
   "outputs": [
    {
     "data": {
      "text/plain": [
       "156"
      ]
     },
     "execution_count": 14,
     "metadata": {},
     "output_type": "execute_result"
    }
   ],
   "source": [
    "#country code of canada is 'CA': in location first entry is country code\n",
    "import csv\n",
    "with open('amazon_jobs_dataset.csv') as file_obj:\n",
    "    file_data=csv.DictReader(file_obj)\n",
    "    file_list=list(file_data)\n",
    "    \n",
    "ans=0    \n",
    "for i in file_list:\n",
    "    value=i['location']\n",
    "    if value.split(',')[0]=='CA':\n",
    "        ans+=1\n",
    "ans        "
   ]
  },
  {
   "cell_type": "code",
   "execution_count": null,
   "metadata": {},
   "outputs": [],
   "source": [
    "JOB MONTH 2018\n",
    "\n",
    "Find the month having most job openings in Year 2018 ?\n",
    "Print the month (Month Name i.e January, February, March) and Number of job opening as Integer Value\n",
    "Output Format :\n",
    "MonthName Count"
   ]
  },
  {
   "cell_type": "code",
   "execution_count": 25,
   "metadata": {},
   "outputs": [
    {
     "data": {
      "text/plain": [
       "('January', 907)"
      ]
     },
     "execution_count": 25,
     "metadata": {},
     "output_type": "execute_result"
    }
   ],
   "source": [
    "import csv\n",
    "with open('amazon_jobs_dataset.csv') as file_obj:\n",
    "    file_data=csv.DictReader(file_obj)\n",
    "    file_list=list(file_data)\n",
    "    \n",
    "d={}    \n",
    "for i in file_list:\n",
    "    value=i['Posting_date']\n",
    "    date=value.split()\n",
    "    if '2018' in date[2]:\n",
    "        d[date[0].strip()]=d.get(date[0].strip(),0)+1\n",
    "month=''\n",
    "count=0\n",
    "for i in d:\n",
    "    if d[i]>count:\n",
    "        count=d[i]\n",
    "        month=i\n",
    "month,count        "
   ]
  },
  {
   "cell_type": "code",
   "execution_count": null,
   "metadata": {},
   "outputs": [],
   "source": [
    "JOB DEGREE\n",
    "\n",
    "Find the number of job openings are present if applicant have Bachelor degree?\n",
    "Print the count as Integer value\n",
    "Note : Here we will use the BASIC QUALIFICATIONS feature to find out whether bachelor degree for Job is required or not. Keywords that can be used are 'Bachelor', 'BS' and 'BA'.\n",
    "Output Format :\n",
    "Count"
   ]
  },
  {
   "cell_type": "code",
   "execution_count": 25,
   "metadata": {},
   "outputs": [
    {
     "data": {
      "text/plain": [
       "2961"
      ]
     },
     "execution_count": 25,
     "metadata": {},
     "output_type": "execute_result"
    }
   ],
   "source": [
    "import csv\n",
    "with open('amazon_jobs_dataset.csv') as file_obj:\n",
    "    file_data=csv.DictReader(file_obj)\n",
    "    file_list=list(file_data)\n",
    "ans=0\n",
    "for i in file_list:\n",
    "    value=i['BASIC QUALIFICATIONS']    \n",
    "    if 'Bachelor'in value or 'BS'in value or 'BA' in value:\n",
    "        ans+=1\n",
    "ans        "
   ]
  },
  {
   "cell_type": "code",
   "execution_count": null,
   "metadata": {},
   "outputs": [],
   "source": [
    "JOB LANGUAGE\n",
    "\n",
    "Among Java, C++ and Python, which of the language has more job openings in India for Bachelor Degree Holder?\n",
    "Print the Language(i.e Java,C++,Python) and number of job opening as integer value.\n",
    "Note : Here we will use the BASIC QUALIFICATIONS feature to find out whether bachelor degree for Job is required or not. Keywords that can be used are 'Bachelor', 'BS' and 'BA' and we will use the BASIC QUALIFICATIONS feature to find out whether Language is required for the job or not.Keywords that is used for language searching are 'Java','C++' or 'Python'.(There case should not be changed).\n",
    "Output Format :\n",
    "Language Count"
   ]
  },
  {
   "cell_type": "code",
   "execution_count": 32,
   "metadata": {},
   "outputs": [
    {
     "data": {
      "text/plain": [
       "('Java', 103)"
      ]
     },
     "execution_count": 32,
     "metadata": {},
     "output_type": "execute_result"
    }
   ],
   "source": [
    "with open('amazon_jobs_dataset.csv') as file_obj:\n",
    "    file_data=csv.DictReader(file_obj)\n",
    "    file_list=list(file_data)\n",
    "d={}\n",
    "for i in file_list:\n",
    "    value=i['BASIC QUALIFICATIONS'] \n",
    "    india=i['location']\n",
    "    if 'IN' in india.split(',')[0]:\n",
    "        if 'Bachelor'in value or 'BS'in value or 'BA' in value:\n",
    "            if 'Java' in value:\n",
    "                d['Java']=d.get('Java',0)+1\n",
    "            elif 'C++' in value:\n",
    "                d['C++']=d.get('C++',0)+1\n",
    "            elif 'Python' in value:\n",
    "                d['python']=d.get('python',0)+1\n",
    "lang=''\n",
    "count=0\n",
    "for i in d:\n",
    "    if d[i]>count:\n",
    "        count=d[i]\n",
    "        language=i\n",
    "language,count       "
   ]
  },
  {
   "cell_type": "code",
   "execution_count": null,
   "metadata": {},
   "outputs": [],
   "source": [
    "JOB JAVA\n",
    "\n",
    "Find the country does Amazon need the most number of Java Developer?\n",
    "Print the Country(Country Shortcut as given in Dataset) and number of job opening as integer value\n",
    "Note :Here we will use the BASIC QUALIFICATIONS feature to find out whether Java is required for the job or not.Keyword is used is 'Java'.(Here case should not be changed).\n",
    "Output Format :\n",
    "Country Count"
   ]
  },
  {
   "cell_type": "code",
   "execution_count": 43,
   "metadata": {},
   "outputs": [
    {
     "data": {
      "text/plain": [
       "('US', 1749)"
      ]
     },
     "execution_count": 43,
     "metadata": {},
     "output_type": "execute_result"
    }
   ],
   "source": [
    "with open('amazon_jobs_dataset.csv') as file_obj:\n",
    "    file_data=csv.DictReader(file_obj)\n",
    "    file_list=list(file_data)\n",
    "d={}\n",
    "for i in file_list:\n",
    "    value=i['BASIC QUALIFICATIONS'] \n",
    "    country=i['location']\n",
    "    amazon=i['DESCRIPTION']\n",
    "    if 'amazon' in amazon.lower():\n",
    "        if 'java' in value.lower():\n",
    "            c=country.split(',')[0]\n",
    "            d[c.strip()]=d.get(c.strip(),0)+1\n",
    "c=''      \n",
    "count=0\n",
    "for i in d:\n",
    "    if d[i]>count:\n",
    "        count=d[i]\n",
    "        c=i\n",
    "c,count"
   ]
  }
 ],
 "metadata": {
  "kernelspec": {
   "display_name": "Python 3",
   "language": "python",
   "name": "python3"
  },
  "language_info": {
   "codemirror_mode": {
    "name": "ipython",
    "version": 3
   },
   "file_extension": ".py",
   "mimetype": "text/x-python",
   "name": "python",
   "nbconvert_exporter": "python",
   "pygments_lexer": "ipython3",
   "version": "3.7.4"
  }
 },
 "nbformat": 4,
 "nbformat_minor": 2
}
